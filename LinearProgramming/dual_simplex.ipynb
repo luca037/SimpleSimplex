{
 "cells": [
  {
   "cell_type": "markdown",
   "id": "ddaa3d62-f7e3-4fbc-b4a8-f5087846da5f",
   "metadata": {},
   "source": [
    "# Dual Simplex algorithm"
   ]
  },
  {
   "cell_type": "markdown",
   "id": "e41eef4d-98a8-404a-af5c-e6bc5accf9ed",
   "metadata": {},
   "source": [
    "## Implementation"
   ]
  },
  {
   "cell_type": "code",
   "execution_count": 1,
   "id": "875879fe-d91d-47db-9217-474b46e68882",
   "metadata": {},
   "outputs": [],
   "source": [
    "import numpy as np\n",
    "import math\n",
    "from fractions import Fraction\n",
    "import matplotlib.pyplot as plt"
   ]
  },
  {
   "cell_type": "code",
   "execution_count": 2,
   "id": "0347d641-35e1-464c-ba23-532e7f2d1307",
   "metadata": {},
   "outputs": [],
   "source": [
    "# Print the tableau matrix.\n",
    "def pretty_print_tableau(tableau):\n",
    "    rows = []\n",
    "    for row in tableau:\n",
    "        formatted_row = [\"{:>6}\".format(str(element)) for element in row]\n",
    "        rows.append(\"[ \" + \" \".join(formatted_row) + \"]\")\n",
    "    print(\"\\n\".join(rows))"
   ]
  },
  {
   "cell_type": "code",
   "execution_count": 3,
   "id": "e090ad77-9a3f-4965-a80d-f1e6dcab1d72",
   "metadata": {},
   "outputs": [],
   "source": [
    "# Pivot operations.\n",
    "# (Minipivot operation is performed only on the row0).\n",
    "def pivot(tableau, n, m, t, h, minipivot=False):\n",
    "    save = tableau[t, h]\n",
    "    for j in range(n + 1):\n",
    "        tableau[t, j] = tableau[t, j] / save\n",
    "    for i in range(m + 1):\n",
    "        if i != t and tableau[i, h] != 0:\n",
    "            save = tableau[i, h]\n",
    "            for j in range(n + 1):\n",
    "                tableau[i, j] = tableau[i, j] - save * tableau[t, j]\n",
    "        if minipivot:\n",
    "            break"
   ]
  },
  {
   "cell_type": "code",
   "execution_count": 4,
   "id": "126a554f-6f4c-4cb0-8442-cd336727c7f0",
   "metadata": {},
   "outputs": [],
   "source": [
    "# Dual Simplex algorithm.\n",
    "def dual_simplex(tableau, n, m, beta, x_opt=None, verbose=False):\n",
    "    unbounded = False\n",
    "    optimal = False\n",
    "\n",
    "    itr = 0 # Num of iteration.\n",
    "\n",
    "    while not optimal and not unbounded:\n",
    "        if verbose:\n",
    "            print(f\"Current tableau - Itr: {itr}\")\n",
    "            pretty_print_tableau(tableau)\n",
    "\n",
    "        candidates = [] # Save all the basic variables < 0.\n",
    "        # Optimality check.\n",
    "        optimal = True\n",
    "        for i in range(1, m + 1):\n",
    "            if tableau[i, 0] < 0:\n",
    "                optimal = False\n",
    "                candidates.append(i)\n",
    "\n",
    "        if not optimal:\n",
    "            # Choose the var that leaves that basis, according to Bland's rule\n",
    "            candidates = np.array(candidates)\n",
    "            t = candidates[0]\n",
    "            for c in candidates[1:]:\n",
    "                if beta[c-1] < beta[t]:\n",
    "                    t = c\n",
    "                    \n",
    "            if verbose:\n",
    "                print(f\"x[{beta[t-1]}] leaves the basis.\")\n",
    "\n",
    "            # Unbounded check.\n",
    "            unbounded = True\n",
    "            for j in range(1, n + 1):\n",
    "                if tableau[t, j] < 0:\n",
    "                    unbounded = False\n",
    "                    break\n",
    "            if not unbounded:\n",
    "                cj_over_aj = np.zeros(n) # Stores the candidates values.\n",
    "                for j in range(1, n + 1):\n",
    "                    if tableau[t, j] < 0:\n",
    "                        cj_over_aj[j-1] = tableau[0, j] / abs(tableau[t, j])\n",
    "                    else:\n",
    "                        cj_over_aj[j-1] = float('inf') # Otherwise i can't use \n",
    "                                                       # the index returned \n",
    "                                                       # by argmin in the tableau.\n",
    "                                                       # (Sort of placeholder)\n",
    "                \n",
    "                # Choose the columns that enters the basis according to Bland's rule.\n",
    "                h = np.argmin(cj_over_aj)\n",
    "                h += 1 # Need this to access the corresponding cols in the tableau.\n",
    "\n",
    "                if verbose:\n",
    "                    print(\"Current pivot element =\", tableau[t, h])\n",
    "\n",
    "                pivot(tableau, n, m, t, h) # Update the tableau.\n",
    "\n",
    "                if verbose:\n",
    "                    print(f\"x[{h}] enters the basis.\")\n",
    "                    print()\n",
    "                beta[t-1] = h # Update the basis.\n",
    "                itr += 1\n",
    "\n",
    "    # Print the optimal solution, if necessary.\n",
    "    if optimal:\n",
    "        if verbose:\n",
    "            print(\"Optimal solution:\")\n",
    "            print(f\"x_B = {[f\"x[{i}]\" for i in beta]} = {[str(tableau[i, 0]) for i in range(1, m + 1)]}.\")\n",
    "        # Save optimal solution, if necessary.\n",
    "        if x_opt is not None:\n",
    "            for i, v in enumerate([tableau[i, 0] for i in range(1, m + 1)]):\n",
    "                x_opt[i] = v\n",
    "        minus_bar_c0 = -1 * tableau[0, 0]\n",
    "        if verbose:\n",
    "            print(f\"Optimal value: {minus_bar_c0}\")\n",
    "        return minus_bar_c0\n",
    "\n",
    "    print(\"The problem is unbounded.\")\n",
    "    return float('-inf')"
   ]
  },
  {
   "cell_type": "markdown",
   "id": "8b2cd055-d809-425d-80d9-ad90065297ca",
   "metadata": {},
   "source": [
    "## Define a linear problem"
   ]
  },
  {
   "cell_type": "code",
   "execution_count": 5,
   "id": "47eb88d0-dcd2-43ab-857d-e66145b3f774",
   "metadata": {},
   "outputs": [],
   "source": [
    "# Define the problem.\n",
    "A = np.array(\n",
    "    [[-2., -2., -1., 1., 0.],\n",
    "     [-1., -2., -3., 0., 1.]], dtype=object)\n",
    "b = np.array([-6., -5.], dtype=object)\n",
    "c = np.array([3., 4., 5., 0., 0.], dtype=object)\n",
    "\n",
    "to_fraction = lambda x: Fraction(x)\n",
    "vfun = np.vectorize(to_fraction)\n",
    "A = vfun(A)\n",
    "b = vfun(b)\n",
    "c = vfun(c)\n",
    "\n",
    "# Specify the basis and the non-basic variables.\n",
    "beta = [4, 5]\n",
    "\n",
    "# Number of rows and columns\n",
    "m, n = A.shape \n",
    "\n",
    "# Init the tableau in his original form.\n",
    "# Add row0.\n",
    "tableau = np.array(np.insert(c, 0, 0))\n",
    "# Add b and A.\n",
    "tableau = np.vstack((tableau, np.column_stack((b, A))))"
   ]
  },
  {
   "cell_type": "code",
   "execution_count": 6,
   "id": "bd4139f8-72f4-4a05-82c0-8cd562e9c109",
   "metadata": {},
   "outputs": [
    {
     "name": "stdout",
     "output_type": "stream",
     "text": [
      "Current tableau - Itr: 0\n",
      "[      0      3      4      5      0      0]\n",
      "[     -6     -2     -2     -1      1      0]\n",
      "[     -5     -1     -2     -3      0      1]\n",
      "x[4] leaves the basis.\n",
      "Current pivot element = -2\n",
      "x[1] enters the basis.\n",
      "\n",
      "Current tableau - Itr: 1\n",
      "[     -9      0      1    7/2    3/2      0]\n",
      "[      3      1      1    1/2   -1/2      0]\n",
      "[     -2      0     -1   -5/2   -1/2      1]\n",
      "x[5] leaves the basis.\n",
      "Current pivot element = -1\n",
      "x[2] enters the basis.\n",
      "\n",
      "Current tableau - Itr: 2\n",
      "[    -11      0      0      1      1      1]\n",
      "[      1      1      0     -2     -1      1]\n",
      "[      2      0      1    5/2    1/2     -1]\n",
      "Optimal solution:\n",
      "x_B = ['x[1]', 'x[2]'] = ['1', '2'].\n",
      "Optimal value: 11\n",
      "Optimal solution is z_opt = 11\n"
     ]
    }
   ],
   "source": [
    "z_opt = dual_simplex(tableau, n, m, beta, verbose=True)\n",
    "print(\"Optimal solution is z_opt =\", z_opt)"
   ]
  },
  {
   "cell_type": "code",
   "execution_count": null,
   "id": "8a253641-2402-4c67-bde7-401407b0674d",
   "metadata": {},
   "outputs": [],
   "source": []
  }
 ],
 "metadata": {
  "kernelspec": {
   "display_name": "Python 3 (ipykernel)",
   "language": "python",
   "name": "python3"
  },
  "language_info": {
   "codemirror_mode": {
    "name": "ipython",
    "version": 3
   },
   "file_extension": ".py",
   "mimetype": "text/x-python",
   "name": "python",
   "nbconvert_exporter": "python",
   "pygments_lexer": "ipython3",
   "version": "3.13.1"
  }
 },
 "nbformat": 4,
 "nbformat_minor": 5
}
